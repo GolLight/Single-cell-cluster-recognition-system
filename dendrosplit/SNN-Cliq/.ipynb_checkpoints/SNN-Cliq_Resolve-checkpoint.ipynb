{
 "cells": [
  {
   "cell_type": "code",
   "execution_count": 1,
   "metadata": {
    "collapsed": false
   },
   "outputs": [],
   "source": [
    "%load_ext autoreload\n",
    "%autoreload 2"
   ]
  },
  {
   "cell_type": "code",
   "execution_count": 2,
   "metadata": {
    "collapsed": false
   },
   "outputs": [],
   "source": [
    "import sys,pickle\n",
    "sys.path.insert(0,'../')\n",
    "from resolve_analysis import *"
   ]
  },
  {
   "cell_type": "code",
   "execution_count": 4,
   "metadata": {
    "collapsed": false
   },
   "outputs": [],
   "source": [
    "X,genes = pickle.load(file('../BAL5.pickle','r'))"
   ]
  },
  {
   "cell_type": "code",
   "execution_count": 5,
   "metadata": {
    "collapsed": true
   },
   "outputs": [],
   "source": [
    "import os,time\n",
    "def SNN_Cliq(D,distfile='tempDistFile',edgefile='tempEdgeFile',labelsfile='labels',\n",
    "             r=0.7,m=0.5,k=5,save_dist=True,verbose=True):\n",
    "    if save_dist: np.savetxt(distfile,D)\n",
    "    start_time = time.time()\n",
    "    if verbose: print 'Building SNN graph..'\n",
    "    os.system('Rscript SNN.R '+distfile+' '+edgefile+' '+str(k))\n",
    "    if verbose: print 'SNN graph built (%.3f s)'%(time.time()-start_time)\n",
    "    start_time = time.time()\n",
    "    if verbose: print 'Finding clusters..'\n",
    "    os.system('python Cliq.py -i '+edgefile+' -o '+labelsfile\n",
    "              +' -r '+str(r)+' -m '+str(m)+' -n '+str(len(D)))\n",
    "    if verbose: print 'Clusters found (%.3f s)'%(time.time()-start_time)\n",
    "    return np.loadtxt(labelsfile)"
   ]
  },
  {
   "cell_type": "code",
   "execution_count": null,
   "metadata": {
    "collapsed": false,
    "scrolled": true
   },
   "outputs": [
    {
     "name": "stdout",
     "output_type": "stream",
     "text": [
      "--------------------------------------------------------------------------------\n",
      "Test Aggregation.txt\n",
      "Computing distance matrix..\n",
      "Distance matrix computed (0.051 s)\n",
      "Current k = 5\n",
      "Building SNN graph..\n",
      "SNN graph built (5.398 s)\n",
      "Finding clusters..\n",
      "Clusters found (0.498 s)\n",
      "Current k = 12\n",
      "Building SNN graph..\n",
      "SNN graph built (5.665 s)\n",
      "Finding clusters..\n",
      "Clusters found (2.871 s)\n",
      "Current k = 25\n",
      "Building SNN graph..\n",
      "SNN graph built (6.642 s)\n",
      "Finding clusters..\n",
      "Clusters found (13.563 s)\n",
      "Current k = 40\n",
      "Building SNN graph..\n",
      "SNN graph built (6.854 s)\n",
      "Finding clusters..\n",
      "Clusters found (40.625 s)\n",
      "--------------------------------------------------------------------------------\n",
      "Test Compound.txt\n",
      "Computing distance matrix..\n",
      "Distance matrix computed (0.002 s)\n",
      "Current k = 5\n",
      "Building SNN graph..\n",
      "SNN graph built (1.515 s)\n",
      "Finding clusters..\n",
      "Clusters found (0.213 s)\n",
      "Current k = 12\n",
      "Building SNN graph..\n",
      "SNN graph built (1.547 s)\n",
      "Finding clusters..\n",
      "Clusters found (0.943 s)\n",
      "Current k = 25\n",
      "Building SNN graph..\n",
      "SNN graph built (1.696 s)\n",
      "Finding clusters..\n",
      "Clusters found (4.318 s)\n",
      "Current k = 40\n",
      "Building SNN graph..\n",
      "SNN graph built (2.085 s)\n",
      "Finding clusters..\n",
      "Clusters found (15.242 s)\n",
      "--------------------------------------------------------------------------------\n",
      "Test D31.txt\n",
      "Computing distance matrix..\n",
      "Distance matrix computed (0.117 s)\n",
      "Current k = 5\n",
      "Building SNN graph..\n",
      "SNN graph built (97.003 s)\n",
      "Finding clusters..\n",
      "Clusters found (2.285 s)\n",
      "Current k = 12\n",
      "Building SNN graph..\n",
      "SNN graph built (102.644 s)\n",
      "Finding clusters..\n",
      "Clusters found (19.853 s)\n",
      "Current k = 25\n",
      "Building SNN graph..\n"
     ]
    }
   ],
   "source": [
    "%matplotlib inline\n",
    "clustering_test('../synthetic_cluster_data/',SNN_Cliq)"
   ]
  },
  {
   "cell_type": "code",
   "execution_count": null,
   "metadata": {
    "collapsed": false,
    "scrolled": true
   },
   "outputs": [],
   "source": [
    "klist = [3,4,5,12,25,40]\n",
    "clustering_pipeline(np.log(1+X),SNN_Cliq,klist,distance=pairwise_L1)"
   ]
  },
  {
   "cell_type": "code",
   "execution_count": null,
   "metadata": {
    "collapsed": false
   },
   "outputs": [],
   "source": [
    "%matplotlib inline\n",
    "x1,x2 = low_dimensional_embedding(np.log(X+1),pcs = 4)\n",
    "for k in klist:\n",
    "    plot_embedding(x1,x2,np.loadtxt('labels_'+str(k)),k)"
   ]
  }
 ],
 "metadata": {
  "kernelspec": {
   "display_name": "Python 2",
   "language": "python",
   "name": "python2"
  },
  "language_info": {
   "codemirror_mode": {
    "name": "ipython",
    "version": 2
   },
   "file_extension": ".py",
   "mimetype": "text/x-python",
   "name": "python",
   "nbconvert_exporter": "python",
   "pygments_lexer": "ipython2",
   "version": "2.7.11"
  }
 },
 "nbformat": 4,
 "nbformat_minor": 0
}
